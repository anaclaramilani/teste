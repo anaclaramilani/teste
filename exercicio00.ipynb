{
 "cells": [
  {
   "cell_type": "markdown",
   "metadata": {
    "collapsed": false,
    "pycharm": {
     "name": "#%% md\n"
    }
   },
   "source": [
    "## Exercícios - aula 00"
   ]
  },
  {
   "cell_type": "markdown",
   "metadata": {
    "collapsed": false,
    "pycharm": {
     "name": "#%% md\n"
    }
   },
   "source": [
    "1) Quantos segundos há em uma hora? Multiplique o número de segundos em um minuto pelo número de minutos em uma hora.\n",
    "\n",
    "2) Armazene o resultado desta operacão em uma variável chamada *segundos_por_hora*\n",
    "\n",
    "3) Quantos segundos há em um dia? Use a sua variável *segundos_por_hora*. Armazene o resultado desta última operacão em uma variável chamada *segundos_por_dia*\n",
    "\n",
    "4) Divida segundos_por_dia por segundos_por_hora. Use a divisão do tipo floating-point division (tabela abaixo) e salve o resultado na variavel *div_float*.\n",
    "\n",
    "5) Divida a variável *segundos_por_dia* por *segundos_por_hora* novamente, porém usando a divisão do tipo integer division (tabela abaixo) e salve o resultado na variável *div_int*.\n",
    "\n",
    "6) Com excessão da casa decimal, o valor obtido na questão 6 é igual ao obtido na questão 5? Faca a comparacão dos resultados e diga qual o tipo de variável o Python retorna como resposta."
   ]
  },
  {
   "cell_type": "code",
   "execution_count": 4,
   "metadata": {},
   "outputs": [
    {
     "data": {
      "text/plain": [
       "3600"
      ]
     },
     "execution_count": 4,
     "metadata": {},
     "output_type": "execute_result"
    }
   ],
   "source": [
    "# EX 1 e 2\n",
    "# 1 hora = 60 min, 1min = 60 segds\n",
    "segundos_por_hora = 60*60\n",
    "segundos_por_hora"
   ]
  },
  {
   "cell_type": "code",
   "execution_count": 6,
   "metadata": {},
   "outputs": [
    {
     "data": {
      "text/plain": [
       "86400"
      ]
     },
     "execution_count": 6,
     "metadata": {},
     "output_type": "execute_result"
    }
   ],
   "source": [
    "# EX 3\n",
    "# calculo segundos em 1 dia\n",
    "segundos_por_dia = segundos_por_hora*24\n",
    "segundos_por_dia"
   ]
  },
  {
   "cell_type": "code",
   "execution_count": 7,
   "metadata": {},
   "outputs": [
    {
     "data": {
      "text/plain": [
       "24.0"
      ]
     },
     "execution_count": 7,
     "metadata": {},
     "output_type": "execute_result"
    }
   ],
   "source": [
    "# EX 4 \n",
    "div_float = segundos_por_dia/segundos_por_hora\n",
    "div_float"
   ]
  },
  {
   "cell_type": "code",
   "execution_count": 9,
   "metadata": {},
   "outputs": [
    {
     "data": {
      "text/plain": [
       "24"
      ]
     },
     "execution_count": 9,
     "metadata": {},
     "output_type": "execute_result"
    }
   ],
   "source": [
    "# EX 5\n",
    "div_int = segundos_por_dia//segundos_por_hora\n",
    "div_int"
   ]
  },
  {
   "attachments": {},
   "cell_type": "markdown",
   "metadata": {},
   "source": [
    "Ex 6: com excessão da casa decimal, os valores encontrados no ex 5 e 6 são iguais. No exercício 5 o phyton me retorna uma variável do tipo float (Racional) e no exercício 6 o phyton retorna uma vairável do tipo int (inteiro)."
   ]
  }
 ],
 "metadata": {
  "kernelspec": {
   "display_name": "Python 3",
   "language": "python",
   "name": "python3"
  },
  "language_info": {
   "codemirror_mode": {
    "name": "ipython",
    "version": 3
   },
   "file_extension": ".py",
   "mimetype": "text/x-python",
   "name": "python",
   "nbconvert_exporter": "python",
   "pygments_lexer": "ipython3",
   "version": "3.10.4"
  },
  "vscode": {
   "interpreter": {
    "hash": "3ad933181bd8a04b432d3370b9dc3b0662ad032c4dfaa4e4f1596c548f763858"
   }
  }
 },
 "nbformat": 4,
 "nbformat_minor": 0
}
